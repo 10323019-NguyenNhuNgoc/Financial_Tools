{
 "cells": [
  {
   "cell_type": "code",
   "execution_count": 1,
   "metadata": {},
   "outputs": [
    {
     "data": {
      "image/png": "[encoded data removed]",
      "text/plain": [
       "<Figure size 600x300 with 1 Axes>"
      ]
     },
     "metadata": {},
     "output_type": "display_data"
    }
   ],
   "source": [
    "import matplotlib.pyplot as plt\n",
    "from matplotlib.patches import Rectangle\n",
    "\n",
    "def timeline_figure_right():\n",
    "    fig, ax = plt.subplots(figsize=(6,3))\n",
    "    \n",
    "    # Turn off axes\n",
    "    ax.axis('off')\n",
    "    \n",
    "    # Adjust plot limits\n",
    "    ax.set_xlim(-0.5, 2.5)\n",
    "    ax.set_ylim(-0.7, 1.0)\n",
    "\n",
    "    # Draw the horizontal timeline from x=0 to x=2\n",
    "    ax.hlines(y=0, xmin=0, xmax=2, color='black')\n",
    "    \n",
    "    # Vertical tick marks at 0, 1, 2\n",
    "    for x in [0, 1, 2]:\n",
    "        ax.vlines(x, ymin=-0.05, ymax=0.05, color='black')\n",
    "\n",
    "    # \"Year 1\" box\n",
    "    ax.add_patch(Rectangle(\n",
    "        (0, 0.3),\n",
    "        1, 0.2,\n",
    "        facecolor='#ADD8E6', edgecolor='black'\n",
    "    ))\n",
    "    ax.text(0.5, 0.4, \"Year 1\", ha='center', va='center', fontsize=11)\n",
    "\n",
    "    # \"Year 2\" box\n",
    "    ax.add_patch(Rectangle(\n",
    "        (1, 0.3),\n",
    "        1, 0.2,\n",
    "        facecolor='#F5DEB3', edgecolor='black'\n",
    "    ))\n",
    "    ax.text(1.5, 0.4, \"Year 2\", ha='center', va='center', fontsize=11)\n",
    "\n",
    "    # Label the Date axis\n",
    "    ax.text(1, 0.2, \"Date\", ha='center', va='bottom', fontsize=10)\n",
    "\n",
    "    # Numeric points on the timeline\n",
    "    ax.text(0, 0.1, \"0\", ha='center', va='bottom')\n",
    "    ax.text(1, 0.1, \"1\", ha='center', va='bottom')\n",
    "    ax.text(2, 0.1, \"2\", ha='center', va='bottom')\n",
    "\n",
    "    # Cash Flow label on the left\n",
    "    ax.text(-0.3, 0, \"Cash Flow\", ha='center', va='center', rotation=90, fontsize=10)\n",
    "\n",
    "    # Cash Flow values (negative at time 0, positive at times 1 & 2)\n",
    "    ax.text(0, -0.15, \"-$10,000\", ha='center', va='top')\n",
    "    ax.text(1, -0.15, \"$6,000\", ha='center', va='top')\n",
    "    ax.text(2, -0.15, \"$6,000\", ha='center', va='top')\n",
    "\n",
    "    plt.show()\n",
    "\n",
    "# Run the function to display the right figure\n",
    "timeline_figure_right()"
   ]
  }
 ],
 "metadata": {
  "kernelspec": {
   "display_name": "anaconda-toolbox",
   "language": "python",
   "name": "python3"
  },
  "language_info": {
   "codemirror_mode": {
    "name": "ipython",
    "version": 3
   },
   "file_extension": ".py",
   "mimetype": "text/x-python",
   "name": "python",
   "nbconvert_exporter": "python",
   "pygments_lexer": "ipython3",
   "version": "3.12.8"
  }
 },
 "nbformat": 4,
 "nbformat_minor": 2
}
