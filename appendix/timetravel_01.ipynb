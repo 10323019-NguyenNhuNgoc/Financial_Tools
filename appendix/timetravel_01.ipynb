{
 "cells": [
  {
   "cell_type": "code",
   "execution_count": 2,
   "metadata": {},
   "outputs": [
    {
     "data": {
      "image/png": "[encoded data removed]",
      "text/plain": [
       "<Figure size 1000x300 with 2 Axes>"
      ]
     },
     "metadata": {},
     "output_type": "display_data"
    }
   ],
   "source": [
    "import matplotlib.pyplot as plt\n",
    "from matplotlib.patches import FancyArrowPatch, ArrowStyle\n",
    "\n",
    "def side_by_side_timelines():\n",
    "    # Create a figure with two subplots side by side\n",
    "    fig, (ax1, ax2) = plt.subplots(ncols=2, figsize=(10, 3))\n",
    "    \n",
    "    ########################################################################\n",
    "    # LEFT SUBPLOT: Growth Over Time (arrows to the right)\n",
    "    ########################################################################\n",
    "    ax1.axis('off')  # Hide axes for a cleaner look\n",
    "    ax1.set_xlim(-0.2, 2.2)\n",
    "    ax1.set_ylim(-0.3, 0.4)\n",
    "\n",
    "    # Draw a horizontal timeline (x=0 to x=2 at y=0)\n",
    "    ax1.hlines(y=0, xmin=0, xmax=2, color='black')\n",
    "\n",
    "    # Vertical ticks at x=0, x=1, x=2\n",
    "    for x in [0, 1, 2]:\n",
    "        ax1.vlines(x, ymin=-0.02, ymax=0.02, color='black')\n",
    "\n",
    "    # Label cash flows below the timeline\n",
    "    ax1.text(0, -0.08, \"$1000\", ha='center', va='top', fontsize=10)\n",
    "    ax1.text(1, -0.08, \"$1100\", ha='center', va='top', fontsize=10)\n",
    "    ax1.text(2, -0.08, \"$1210\", ha='center', va='top', fontsize=10)\n",
    "\n",
    "    # Define an arrow style\n",
    "    arrow_style = ArrowStyle(\"->\", head_length=6, head_width=3)\n",
    "\n",
    "    # Arrow from time 0 to time 1 (×1.10)\n",
    "    arrow1 = FancyArrowPatch((0, 0.15), (1, 0.15),\n",
    "                             arrowstyle=arrow_style, color='gray', lw=1.5)\n",
    "    ax1.add_patch(arrow1)\n",
    "    ax1.text(0.5, 0.18, \"× 1.10\", ha='center', va='bottom', fontsize=10)\n",
    "\n",
    "    # Arrow from time 1 to time 2 (×1.10)\n",
    "    arrow2 = FancyArrowPatch((1, 0.15), (2, 0.15),\n",
    "                             arrowstyle=arrow_style, color='gray', lw=1.5)\n",
    "    ax1.add_patch(arrow2)\n",
    "    ax1.text(1.5, 0.18, \"× 1.10\", ha='center', va='bottom', fontsize=10)\n",
    "\n",
    "    ########################################################################\n",
    "    # RIGHT SUBPLOT: Discounting Over Time (arrows to the left)\n",
    "    ########################################################################\n",
    "    ax2.axis('off')\n",
    "    ax2.set_xlim(-0.2, 2.2)\n",
    "    ax2.set_ylim(-0.3, 0.4)\n",
    "\n",
    "    # Draw a horizontal timeline (x=0 to x=2 at y=0)\n",
    "    ax2.hlines(y=0, xmin=0, xmax=2, color='black')\n",
    "\n",
    "    # Vertical ticks at x=0, x=1, x=2\n",
    "    for x in [0, 1, 2]:\n",
    "        ax2.vlines(x, ymin=-0.02, ymax=0.02, color='black')\n",
    "\n",
    "    # Label cash flows below the timeline\n",
    "    ax2.text(0, -0.08, \"$826.45\", ha='center', va='top', fontsize=10)\n",
    "    ax2.text(1, -0.08, \"$909.09\", ha='center', va='top', fontsize=10)\n",
    "    ax2.text(2, -0.08, \"$1000\", ha='center', va='top', fontsize=10)\n",
    "\n",
    "    # Arrow from time 2 to time 1 (÷1.10)\n",
    "    arrow3 = FancyArrowPatch((2, 0.15), (1, 0.15),\n",
    "                             arrowstyle=arrow_style, color='gray', lw=1.5)\n",
    "    ax2.add_patch(arrow3)\n",
    "    ax2.text(1.5, 0.18, \"÷ 1.10\", ha='center', va='bottom', fontsize=10)\n",
    "\n",
    "    # Arrow from time 1 to time 0 (÷1.10)\n",
    "    arrow4 = FancyArrowPatch((1, 0.15), (0, 0.15),\n",
    "                             arrowstyle=arrow_style, color='gray', lw=1.5)\n",
    "    ax2.add_patch(arrow4)\n",
    "    ax2.text(0.5, 0.18, \"÷ 1.10\", ha='center', va='bottom', fontsize=10)\n",
    "\n",
    "    # Tight layout to minimize overlap\n",
    "    plt.tight_layout()\n",
    "    plt.show()\n",
    "\n",
    "# Call the function to display the figure\n",
    "side_by_side_timelines()"
   ]
  }
 ],
 "metadata": {
  "language_info": {
   "name": "python"
  }
 },
 "nbformat": 4,
 "nbformat_minor": 2
}
