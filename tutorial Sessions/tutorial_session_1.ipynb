{
 "cells": [
  {
   "cell_type": "markdown",
   "metadata": {},
   "source": [
    "<h2 style=\"text-align: center; font-family: Calibri, sans-serif; font-size: 36px;\">\n",
    "  Tutorial Session 1\n",
    "</h2>\n",
    "\n",
    "---"
   ]
  },
  {
   "cell_type": "markdown",
   "metadata": {},
   "source": [
    "## Financial Decision Making\n",
    "\n",
    "---"
   ]
  },
  {
   "cell_type": "markdown",
   "metadata": {},
   "source": [
    "### Question 1.1\n",
    "\n",
    "Consider an offer to trade 5 troy ounces (oz) of rhodium for 150 oz of palladium. Current competitive market prices are approximately £950 per oz for palladium and £5000 per oz for rhodium. \n",
    "\n",
    "* Based on current market prices, does this trade represent a positive net value? Explain using the Law of One Price or valuation principles.\n",
    "\n",
    "* Under what specific market price conditions (deviation from current prices) might this trade become unappealing?\n",
    "\n",
    "* What action might you consider if you strongly anticipated palladium prices falling to £900 per oz within the next day, assuming you could execute related transactions instantly?\n",
    "\n",
    "* How does your personal belief about the \"fairness\" of the current rhodium or palladium prices affect the decision to accept the trade based solely on market values?\n",
    "\n",
    "---"
   ]
  },
  {
   "cell_type": "markdown",
   "metadata": {},
   "source": [
    "### Question 1.2\n",
    "\n",
    "You are the Procurement Manager at Delta Resources. Due to a legacy supply agreement, you have a one-time opportunity to acquire 500 barrels (bbl) of Crude Oil and 20 metric tons (t) of Nickel for a fixed total payment of $\\$550,000$. The current competitive market price is $\\$85$ per bbl for Crude Oil and $\\$18,000$ per metric ton for Nickel.\n",
    "\n",
    "* You are uncertain about Delta Resources' future need for these exact quantities and are concerned that the market value of both oil and nickel might decline.\n",
    "    \n",
    "* Applying the Valuation Principle, should you accept this opportunity? Justify your answer by comparing the cost to the market value.\n",
    "\n",
    "---"
   ]
  },
  {
   "cell_type": "markdown",
   "metadata": {},
   "source": [
    "### Question 1.3\n",
    "\n",
    "* Suppose the risk-free interest rate ($r$) is 3%.\n",
    "    * Having $\\$1000$ today is equivalent to having what amount (Future Value, $FV$) in:\n",
    "        * one year?\n",
    "        * five years?\n",
    "        * eight years?\n",
    "    * Having $\\$500$ in one year is equivalent to having what amount (Present Value, $PV$) today?\n",
    "    * What is the present value ($PV$) today of having $\\$500$ in four years?\n",
    "    * What is the present value ($PV$) today of having $\\$500$ in nine years?\n",
    "\n",
    "---"
   ]
  },
  {
   "cell_type": "markdown",
   "metadata": {},
   "source": [
    "### Question 1.4\n",
    "\n",
    "* Suppose the risk-free interest rate ($r$) is 5%.\n",
    "    * What are the discount factors for:\n",
    "        * one year?\n",
    "        * three years?\n",
    "        * six years?\n",
    "    * What are the interest rate factors (future value factors) for:\n",
    "        * two years?\n",
    "        * four years?\n",
    "        * seven years?\n",
    "\n",
    "---"
   ]
  },
  {
   "cell_type": "markdown",
   "metadata": {},
   "source": [
    "### Question 1.5\n",
    "\n",
    "You founded Epsilon Ventures, a bespoke furniture workshop, a few years ago. Due to changing personal priorities, you are considering selling the business within the next year. A potential buyer has made a standing offer to purchase Epsilon Ventures for $120,000 whenever you choose to sell within this timeframe.\n",
    "\n",
    "* Given an annual interest rate ($r$) of 7%, evaluate the following alternatives to determine the best financial choice:\n",
    "\n",
    "    * **Alternative 1:** Sell Epsilon Ventures immediately.\n",
    "    * **Alternative 2:** Invest $\\$25,000$ upfront to streamline workshop operations. You project this will generate an additional profit of $\\$50,000$ by the end of the year, at which point you would sell the business for the offered price.\n",
    "    * **Alternative 3:** Hire a manager for one year at an upfront cost of $\\$35,000$. You anticipate this generating a profit of $\\$65,000$ by the end of the year, after which you would sell the business for the offered price.\n",
    "\n",
    "---"
   ]
  },
  {
   "cell_type": "markdown",
   "metadata": {},
   "source": [
    "### Question 1.6\n",
    "\n",
    "Delta Corp is evaluating a short-term investment opportunity. The company requires a minimum after-tax real rate of return of 3% on its investments. The relevant tax rate on investment income is 25%, and the expected rate of inflation over the investment horizon is 7%.\n",
    "\n",
    "What is the minimum pre-tax nominal rate of return that this investment must offer for Delta Corp to achieve its target after-tax real return objective?\n",
    "\n",
    "---"
   ]
  },
  {
   "cell_type": "markdown",
   "metadata": {},
   "source": [
    "### Question 1.7\n",
    "\n",
    "Consider a risk-free security issued by the Beta Institute that promises to pay investors the following cash flows:\n",
    "\n",
    " * $50 exactly one year from today\n",
    "   \n",
    " * $70 exactly two years from today\n",
    "\n",
    " * $120 exactly three years from today\n",
    "\n",
    "Suppose the current annualized risk-free interest rates for these maturities are as follows:\n",
    "    \n",
    " * One-year risk-free rate ($r_1$): 4.0%\n",
    " * Two-year risk-free rate ($r_2$): 4.5%\n",
    " * Three-year risk-free rate ($r_3$): 5.0%\n",
    "\n",
    "**What is the theoretical no-arbitrage price of this security today? Describe the calculation required.**\n",
    "\n",
    "**If this security is currently trading in the market for a price of $215, clearly describe the sequence of transactions you would need to undertake today and in the future to lock in a risk-free arbitrage profit. Specify the amount of profit you would realize today.**\n",
    "\n",
    "---"
   ]
  },
  {
   "cell_type": "markdown",
   "metadata": {},
   "source": [
    "## Time, Money, and Interest Rates\n",
    "\n",
    "---"
   ]
  },
  {
   "cell_type": "markdown",
   "metadata": {},
   "source": [
    "### Question 2.1\n",
    "For each of the following scenarios, compute the present value:\n",
    "\n",
    "| Present Value | Years | Interest Rate | Future Value  |\n",
    "|---------------|-------|---------------|---------------|\n",
    "|               | 7     | 6\\%           | \\$14,235      |\n",
    "|               | 11    | 12\\%          | \\$52,148      |\n",
    "|               | 15    | 9\\%           | \\$812,730     |\n",
    "|               | 22    | 14\\%          | \\$614,390     |\n",
    "\n",
    "---"
   ]
  },
  {
   "cell_type": "markdown",
   "metadata": {},
   "source": [
    "### Question 2.2\n",
    "* An investment offers \\$4,500 per year for 12 years, with the first payment occurring one year from now. If the required return is 7\\%, what is the value of the investment?\n",
    "\n",
    "---"
   ]
  },
  {
   "cell_type": "markdown",
   "metadata": {},
   "source": [
    "### Question 2.3\n",
    "* The Infinity Wealth Management Company is trying to sell you an investment policy that will pay you and your heirs \\$18,000 per year forever.     \n",
    "    - If the required return on this investment is 6.3\\%, how much will you pay for the policy?\n",
    "    - If you are told that the policy costs $350,000. At what interest rate would this be a fair deal?\n",
    "\n",
    "---"
   ]
  },
  {
   "cell_type": "markdown",
   "metadata": {},
   "source": [
    "### Question 2.4\n",
    "* Alex has been developing an innovative medical imaging technology. His technology will be launched in the near future. He anticipates his first annual cash flow from the technology to be $250,000, received three years from today. Subsequent annual cash flows will grow at 4.5\\% in perpetuity. What is the present value of the technology if the discount rate is 12\\%?\n",
    "\n",
    "---"
   ]
  },
  {
   "cell_type": "markdown",
   "metadata": {},
   "source": [
    "### Question 2.5\n",
    "* During 2015, AC sold a sculpture by a famous French artist at auction for a price of $\\$1,400,000$. AC had purchased it four years earlier at a price of $\\$2,100,000$. What was his annual rate of return on this sculpture?\n",
    "\n",
    "---"
   ]
  },
  {
   "cell_type": "markdown",
   "metadata": {},
   "source": [
    "### Question 2.6\n",
    "Investment A offers to pay you $\\$4,500$ per year for 12 years, whereas Investment B offers to pay you $\\$7,200$ per year for 6 years. Which investment would you choose under the following interest rate scenarios:\n",
    "\n",
    "- 6 percent  \n",
    "- 25 percent\n",
    "---"
   ]
  },
  {
   "cell_type": "markdown",
   "metadata": {},
   "source": [
    "### Question 2.7\n",
    "\n",
    "* You estimate that, once you start work, you could save $15,000 a year out of your income and earn a return of 9% on these savings. \n",
    "    * How much will you be able to spend after five years?\n",
    "\n",
    "---"
   ]
  },
  {
   "cell_type": "markdown",
   "metadata": {},
   "source": [
    "### Question 2.8\n",
    "\n",
    "* You want to buy a house in 10 years and estimate a house of your liking will cost $200,000. \n",
    "    * Assume that you are able to earn a return of 8% on these savings. \n",
    "    * What is the amount you need to save each year?\n",
    "\n",
    "---"
   ]
  },
  {
   "cell_type": "markdown",
   "metadata": {},
   "source": [
    "### Question 2.9\n",
    "\n",
    "* Suppose we have a \\$250,000 commercial mortgage with a 12\\% interest rate to be paid monthly over 15 years. \n",
    "    \n",
    "    * What should the monthly payments be?\n",
    "    \n",
    "    * Now, suppose that the borrower intends to fully pay the remaining balance on the loan after the 60th monthly payment. What will be the required amount for this payment?\n",
    "\n",
    "    * If the borrower intends to fully amortize the loan at the end of 15th year but wants to make balloon payments of $50,000 at the end of 5th, and 10th years, what should the monthly payments be?\n",
    "\n",
    "    * Suppose that the borrower firm wants to explore a 10-year mortgage with two equal balloon payments at the end of 3rd and 7th years.\n",
    "        * Additionally, the financial manager of the firm makes it clear that the maximum amount for monthly payments should be $3,250. \n",
    "        * What is the minimum amount of the balloon payments needed for fully amortizing the loan at the end of 10th year?\n",
    "\n",
    "---"
   ]
  },
  {
   "cell_type": "markdown",
   "metadata": {},
   "source": [
    "### Question 2.10\n",
    "* An investor purchasing a German perpetuity is entitled to receive annual payments from the German government forever. \n",
    "    * What is the price of a perpetuity that pays $\\$150$ annually if the next payment occurs one year from today? The market interest rate is 4.5 percent.\n",
    "    * What if the perpetuity will pay $\\$150$ exactly one year from today and the payments are set to increase 3% every year thereafter?\n",
    "\n",
    "---"
   ]
  },
  {
   "cell_type": "markdown",
   "metadata": {},
   "source": [
    "### Question 2.11\n",
    "\n",
    "First Capital Bank pays 8.25 percent simple interest on its savings account balances, whereas Second Capital Bank pays 8.25 percent interest compounded annually. If you made a $9,000 deposit in each bank, how much more money would you earn from your Second Capital Bank account at the end of 12 years?\n",
    "\n",
    "---"
   ]
  },
  {
   "cell_type": "markdown",
   "metadata": {},
   "source": [
    "### Question 2.12\n",
    "* You just won the FutureValue Sweepstakes. You will receive $\\$1,200.000$ today plus another 10 annual payments that increase by $\\$300,000$ per year. Thus, in one year you receive $\\$1,500,000$. In two years, you get $\\$1,800,000$, and so on. If the appropriate interest rate is 5.8 percent, what is the present value of your winnings?\n",
    "\n",
    "---"
   ]
  },
  {
   "cell_type": "markdown",
   "metadata": {},
   "source": [
    "### Question 2.13\n",
    "* You have just purchased a new house. To finance the purchase, you've arranged for a 30-year mortgage for 80 percent of the $\\$600,000$ purchase price. The monthly payment on this loan will be $\\$2,800$.\n",
    "  - What is the APR on this loan?\n",
    "  - The EAR?\n",
    "\n",
    "---"
   ]
  },
  {
   "cell_type": "markdown",
   "metadata": {},
   "source": [
    "### Question 2.14\n",
    "* You have just won the LottoMax. You will receive $\\$5,000,000$ today, and then receive 40 payments of $\\$1,800,000$. These payments will start one year from now and will be paid every six months. A representative from BlueSky Investments has offered to purchase all the payments from you for $\\$35$ million.\n",
    "  - If the appropriate interest rate is an APR of 8.5 percent, should you take the offer?\n",
    "  - What is the APR level that will make you indifferent between the two options?\n",
    "\n",
    "---"
   ]
  },
  {
   "cell_type": "markdown",
   "metadata": {},
   "source": [
    "### Question 2.15\n",
    "Alex Roberts owns a chain of artisanal bakery cafes in downtown San Francisco. He charges his customers an annual membership fee of $\\$350$ and currently has a loyal customer base of 600 members. Alex plans to raise the annual fee by 5% every year and expects his membership to grow at a constant rate of 4% per year over the next five years. His business incurs operating expenses of $\\$100,000$ per year, and these costs are expected to increase at the inflation rate of 3% annually. At the end of five years, Alex intends to invest $\\$600,000$ in a new boutique hotel venture and then close his cafes to retire and travel the world. \n",
    "\n",
    "After spending $\\$600,000$ on his new venture, the remaining savings are invested in an account that earns an 8% annual return. Alex plans to fund his world travels over a 20-year retirement, withdrawing an equal amount at the beginning of each year, and depleting the account completely by the end of the 20 years.\n",
    "\n",
    "What is the annual amount that Alex can spend during his 20-year retirement (in today’s dollars), and what is the corresponding nominal amount of his final withdrawal, assuming the annual withdrawals are indexed to inflation?\n",
    "\n",
    "---\n"
   ]
  },
  {
   "cell_type": "markdown",
   "metadata": {},
   "source": [
    "## Investment Decison Rules\n",
    "\n",
    "---"
   ]
  },
  {
   "cell_type": "markdown",
   "metadata": {},
   "source": [
    "### Question 3.1\n",
    "*   A close friend wants seed funding of $\\$15,500$ for a small online business venture. They have provided a projection promising to pay you back $\\$17,800$ in **one year**. Given the risk involved, you estimate your required rate of return (cost of capital) for this opportunity is **10%**.\n",
    "    *   What is the Net Present Value (NPV) of this funding opportunity? Based on the NPV, should you provide the funding?\n",
    "    *   Calculate the Internal Rate of Return (IRR) for this opportunity. Use the IRR to determine the maximum *unfavorable* deviation (i.e., increase) allowable in your cost of capital estimate before your decision changes.\n",
    "\n",
    "---"
   ]
  },
  {
   "cell_type": "markdown",
   "metadata": {},
   "source": [
    "### Question 3.2\n",
    "*   You are evaluating an investment in a distressed real estate property. The purchase and initial renovation cost today is estimated at $\\$450,000$. You plan to hold the property, perform minor upkeep, and expect market appreciation, aiming to sell it for $\\$1,500,000$ in **8 years**. Given the uncertainties in the real estate market and potential holding costs, your required rate of return (cost of capital) for such an investment is **20%**.\n",
    "    *   What is the NPV of this real estate investment opportunity? Based on the NPV, should you undertake this investment?\n",
    "    *   Calculate the IRR for this investment. Use the IRR to determine the maximum deviation (increase or decrease) allowable in your cost of capital estimate that would leave your investment decision unchanged.\n",
    "\n",
    "---"
   ]
  },
  {
   "cell_type": "markdown",
   "metadata": {},
   "source": [
    "### Question 3.3\n",
    "*   Mechano Inc. is considering a major factory expansion. This expansion is projected to generate additional net cash inflows of $\\$310,000$ for the firm during the first year after completion. These cash flows are expected to grow steadily at a rate of **5 percent per year indefinitely**. The expansion requires an upfront investment of $3,800,000.\n",
    "    *   If Mechano Inc. requires a return of **14 percent** on such capital projects, should the factory expansion be undertaken? (Calculate the NPV).\n",
    "    *   Mechano Inc.'s management is concerned about the long-term growth forecast. At what constant perpetual growth rate would this expansion project just break even (NPV = 0), assuming the company still requires a **14 percent** return on investment?\n",
    "\n",
    "---"
   ]
  },
  {
   "cell_type": "markdown",
   "metadata": {},
   "source": [
    "### Question 3.4\n",
    "*   BioTech Solutions has developed a promising new diagnostic tool based on gene sequencing. They expect the technology to be fully commercialized soon. The first annual net cash flow from the tool is anticipated to be **$350,000**, received **three years from today**. Subsequent annual cash flows are projected to grow at **4.2 percent** in perpetuity. What is the present value of this diagnostic tool venture if the appropriate discount rate is **11 percent**?\n",
    "\n",
    "---"
   ]
  },
  {
   "cell_type": "markdown",
   "metadata": {},
   "source": [
    "### Question 3.5\n",
    "\n",
    "*   As an angel investor, you have been presented with a long-term opportunity to fund a novel clean energy startup. The proposal suggests you can invest **\\$200,000** today and expect to receive a payout of **\\$15,000,000** when the company is projected to be acquired in **25 years**. Your required rate of return (cost of capital) for such ventures is **18%**.\n",
    "    *   What does the IRR rule indicate about whether this investment should be pursued?\n",
    "    *   What does the NPV rule indicate? Do the two rules lead to the same conclusion?\n",
    "\n",
    "---"
   ]
  },
  {
   "cell_type": "markdown",
   "metadata": {},
   "source": [
    "### Question 3.6\n",
    "\n",
    "*   Coastal Manufacturing is considering the purchase of a new robotic welding system costing **\\$250,000** upfront. This system is expected to generate incremental after-tax cash flows of **\\$60,000** per year for the next **seven years**. Coastal Manufacturing's required rate of return for equipment investments is **14 percent**.\n",
    "    *   What does the IRR rule suggest about undertaking this investment?\n",
    "    *   What does the NPV rule suggest? Is there agreement between the rules?\n",
    "\n",
    "---"
   ]
  },
  {
   "cell_type": "markdown",
   "metadata": {},
   "source": [
    "### Question 3.7\n",
    "\n",
    "*   A real estate development firm is choosing between two mutually exclusive downtown revitalization projects. Both require the same initial investment of **\\$15 million**.\n",
    "    *   Project **High Rise (HR)** will generate net rental income of **\\$2.5 million** per year (starting at the end of the first year) in perpetuity.\n",
    "    *   Project **Mixed Use (MU)** will generate **\\$1.8 million** at the end of the first year, and this income stream is expected to grow at **3%** per year indefinitely after that.\n",
    "    *   Which project has the higher IRR?\n",
    "    *   Which project has the higher NPV when the firm's cost of capital is **8%**?\n",
    "    *   In this situation, for what range of the cost of capital would choosing the project with the higher IRR lead to the correct decision (i.e., selecting the project with the higher NPV)?\n",
    "\n",
    "---"
   ]
  },
  {
   "cell_type": "markdown",
   "metadata": {},
   "source": [
    "### Question 3.8\n",
    "\n",
    "*   Your renewable energy company is considering developing a new geothermal power plant. The plant construction and setup will cost **\\$250 million** immediately (Year 0). Once operational, the plant is expected to generate **\\$35 million** in net cash flow per year for the next **12 years**. After 12 years, the plant will require ongoing monitoring and environmental compliance activities. These are expected to cost **\\$2.5 million per year** in perpetuity, starting in Year 13.\n",
    "    *   What does the IRR rule indicate about whether you should accept this opportunity? \n",
    "    *   If the cost of capital for this project is **8.5%**, what does the NPV rule say about accepting the project?\n",
    "\n",
    "---"
   ]
  },
  {
   "cell_type": "markdown",
   "metadata": {},
   "source": [
    "### Question 3.9\n",
    "\n",
    "*   Your company typically spends **\\$750,000 per year** on routine IT system upgrades and software licensing renewals. Due to budget constraints, the firm is considering skipping these expenditures for the next **three years** (Years 1, 2, and 3). If it does so, it anticipates a major system failure requiring replacement and data recovery costing **\\$2.8 million** at the end of Year 4.\n",
    "    *   What is the IRR associated with the decision to forgo the IT upgrades?\n",
    "    *   Does the standard IRR decision rule work reliably for this specific decision? Why or why not?\n",
    "    *   For what range of costs of capital would forgoing the upgrades appear to be a financially beneficial decision (i.e., have a positive NPV)?\n",
    "\n",
    "---"
   ]
  },
  {
   "cell_type": "markdown",
   "metadata": {},
   "source": [
    "### Question 3.10\n",
    "\n",
    "*   \"App Wizards Inc.\" has designed a new productivity app. They can launch the app either with a basic feature set or as a premium version with enhanced capabilities, but launching both is not feasible. Consider the following estimated cash flows for these mutually exclusive options. Assume the appropriate discount rate for both projects is **12 percent**.\n",
    "\n",
    "    | Year | Basic App CF (\\$k) | Premium App CF (\\$k) |\n",
    "    | :----: | -----------------: | -------------------: |\n",
    "    | 0    | -500             | -1,200             |\n",
    "    | 1    | 350               | 800                 |\n",
    "    | 2    | 250               | 600                 |\n",
    "    | 3    | 100               | 300                 |\n",
    "\n",
    "*   Based *only* on the Payback Period rule, which app version should be launched?\n",
    "*   Based on the NPV rule, which app version should be chosen?\n",
    "*   Based *only* on the IRR rule, which app version should be chosen?\n",
    "*   Using the Incremental IRR method, which app version should be chosen?\n",
    "\n",
    "---"
   ]
  },
  {
   "cell_type": "markdown",
   "metadata": {},
   "source": [
    "### Question 3.11\n",
    "\n",
    "*   Catalyst Marketing, a digital agency, has a daily budget of $1,200 to allocate across different online advertising campaigns for a client. Each campaign type has a different estimated NPV per \"unit\" of spend (e.g., per 1000 impressions or per click package), a cost per unit, and a maximum number of effective units the agency can purchase per day.\n",
    "\n",
    "    | Campaign Type      | Est. NPV per Unit | Cost per Unit | Max. Units per Day |\n",
    "    | ------------------ | -----------------: | -------------: | ------------------: |\n",
    "    | Social Media Ads   | \\$2                | \\$30           | 20                 |\n",
    "    | Search Engine Ads  | \\$12               | \\$25           | 15                 |\n",
    "    | Video Ads          | \\$8                | \\$40           | 10                 |\n",
    "    | Influencer Collabs | \\$30               | \\$100          | 6                  |\n",
    "\n",
    "    *   What combination of advertising units should Catalyst Marketing purchase each day to maximize the total estimated NPV within the $1,200 budget?\n",
    "\n",
    "---"
   ]
  },
  {
   "cell_type": "markdown",
   "metadata": {},
   "source": [
    "### Question 3.12\n",
    "\n",
    "*   **Venture Capital Investment Selection:** Horizon Ventures (HV) is evaluating six potential startup investments. HV plans to invest today and aims for an exit (selling its stake) six years from today. The following table summarizes the initial investment required, the expected exit valuation for HV's stake, and the appropriate discount rate reflecting the risk of each startup.\n",
    "\n",
    "    | Startup        | Investment Today | Discount Rate | Expected Exit Value (Year 6) |\n",
    "    | -------------- | ----------------: | :-------------: | ----------------------------: |\n",
    "    | AlphaTech      | 2,500,000      | 18%           | 20,000,000                  |\n",
    "    | BioGen         | 12,000,000       | 18%           | 80,000,000                   |\n",
    "    | CloudServe     | 7,000,000        | 18%           | 45,000,000                   |\n",
    "    | DataMine       | 5,000,000        | 10%           | 28,000,000                   |\n",
    "    | EcoPower       | 2,000,000        | 10%           | 8,000,000                    |\n",
    "    | FinSecure      | 8,000,000        | 10%           | 40,000,000                   |\n",
    "\n",
    "    HV has a total capital budget of \\$20,000,000 available for these new investments.\n",
    "    *   What is the Internal Rate of Return (IRR) for each potential investment?\n",
    "    *   What is the Net Present Value (NPV) for each potential investment?\n",
    "    *   Given its budget of \\$20,000,000, which startups should HV invest in to maximize total NPV?\n",
    "    *   How would HV's investment decision change if its capital budget were only \\$10,000,000?\n",
    "\n",
    "---"
   ]
  },
  {
   "cell_type": "markdown",
   "metadata": {},
   "source": [
    "## Capital Budgeting\n",
    "\n",
    "---"
   ]
  },
  {
   "cell_type": "markdown",
   "metadata": {},
   "source": [
    "### Question 4.1\n",
    "\n",
    "TechNova Ltd. is evaluating the purchase of an automated workstation priced at $\\$380,000$ with a useful life of 5 years. The system will be depreciated on a straight-line basis over five years, and its salvage value at the end of the period is expected to be $\\$40,000$.\n",
    "\n",
    "By adopting this technology, the company will be able to eliminate three manual quality control position, saving a total of $135,000 per year in salaries. \n",
    "\n",
    "Additionally, the system will immediately reduce the company's required net working capital by $60,000. This NWC will need to be reinstated when the equipment is sold after 5 years.\n",
    "\n",
    "The firm's corporate tax rate is 25%, and the required rate of return is 11%.\n",
    "\n",
    "Should TechNova proceed with the investment?\n",
    "\n",
    "---"
   ]
  },
  {
   "cell_type": "markdown",
   "metadata": {},
   "source": [
    "### Question 4.2\n",
    "\n",
    "Grind & Brew Ltd. is evaluating whether to invest in a new $9,000 commercial coffee roaster. \n",
    "\n",
    "* The equipment has a useful economic life of five years and will be depreciated evenly over its life using straight-line depreciation. \n",
    "* The roaster is expected to process 1,600 pounds of beans annually. Each pound of coffee costs $\\$3.10$ to roast and is sold for $\\$6.00$.\n",
    "\n",
    "* The firm faces a tax rate of 30% and uses a discount rate of 12%. \n",
    "\n",
    "* Should Grind & Brew proceed with this investment?\n",
    "\n",
    "---"
   ]
  },
  {
   "cell_type": "markdown",
   "metadata": {},
   "source": [
    "### Question 4.3\n",
    "\n",
    "Evergreen Electronics is evaluating a new automated assembly line. \n",
    "* The equipment costs $\\$4,500,000$ up front, and requires an immediate $\\$200,000$ increase in net working capital. \n",
    "* Sales are expected to be \\$2,600,000 per year for four years (after which the market will end). Operating costs are 30 % of sales. \n",
    "* The equipment will be straight‐line depreciated to zero over four years. \n",
    "* The corporate tax rate is 30 %, and the required return is 12 %. \n",
    "* Should Evergreen proceed wit the investment?\n",
    "\n",
    "---"
   ]
  },
  {
   "cell_type": "markdown",
   "metadata": {},
   "source": [
    "### Question 4.4\n",
    "\n",
    "BlueWave Industries is considering launching a new service division. Management projects these figures for Years 1 and 2 (in millions of dollars):\n",
    "\n",
    "| Item                                            | Year 1 | Year 2 |\n",
    "| :---------------------------------------------- | -----: | -----: |\n",
    "| Service revenue                                 | 142.3  | 198.7  |\n",
    "| Operating expenses (excl. depreciation)         |  54.8  |  60.2  |\n",
    "| Depreciation                                    |  21.4  |  29.8  |\n",
    "| Change in net working capital                   |   6.5  |   8.3  |\n",
    "| Capital expenditures                            |  33.0  |  40.5  |\n",
    "| Corporate tax rate                              |   28 % |   28 % |\n",
    "\n",
    "Should BlueWave Industries proceed with the service division launch?\n",
    "\n",
    "---"
   ]
  },
  {
   "cell_type": "markdown",
   "metadata": {},
   "source": [
    "### Question 4.5\n",
    "\n",
    "PrintCo manufactures 120 000 printers per year (steady state).  Each printer needs one custom circuit board.  Currently they buy boards at $\\$4.00$ each.  The plant manager proposes to produce boards in‑house at $\\$2.50$ apiece.\n",
    "\n",
    "| Parameter                            | Value                  |\n",
    "|:-------------------------------------|:-----------------------|\n",
    "| Annual volume                        | 120 000 boards         |\n",
    "| Purchase price (outsourced)          | \\$4.00 / board         |\n",
    "| In‑house variable cost               | \\$2.50 / board         |\n",
    "| Capital cost of new machinery        | \\$300 000              |\n",
    "| Economic life of machinery           | 5 years                |\n",
    "| Depreciation                         | Straight‑line to zero  |\n",
    "| Additional working capital (NWC)     | \\$40 000 (recovered in Year 5) |\n",
    "| Salvage value at end of Year 5       | \\$20 000               |\n",
    "| Tax rate                             | 25 %                   |\n",
    "| WACC                                 | 10 %                   |\n",
    "\n",
    "What is the net present value (NPV) of deciding to manufacture the circuit boards in‑house rather than buying them from the supplier?\n",
    "\n",
    "--- \n"
   ]
  },
  {
   "cell_type": "markdown",
   "metadata": {},
   "source": [
    "### Question 4.6\n",
    "\n",
    "Omega Distribution, Inc. is evaluating the acquisition of a new regional warehouse at a cost of \\$620,000 today.  The asset will be depreciated straight‑line over six years with no salvage value at the end of its life.\n",
    "\n",
    "- **Revenues:**  \n",
    "  – Year 1 nominal revenue: \\$540,000 (end of year)  \n",
    "  – Inflation rate: 4 % per year  \n",
    "\n",
    "- **Operating Costs:**  \n",
    "  – Year 1 nominal cost: \\$320,000 (end of year)  \n",
    "  – Cost escalation rate: 3 % per year  \n",
    "\n",
    "- **Depreciation:** Straight‑line over 6 years, zero salvage.\n",
    "\n",
    "- **Discount rate:** 8 % real.\n",
    "\n",
    "- **Tax rate:** 30 %.\n",
    "\n",
    "Using a real discount rate and ignoring working‑capital effects, compute the project’s after‑tax cash flows and net present value.  Based on your NPV analysis, should Omega Distribution proceed with the warehouse investment?\n",
    "\n",
    "---\n"
   ]
  },
  {
   "cell_type": "markdown",
   "metadata": {},
   "source": [
    "### Question 4.7\n",
    "\n",
    "Apex Solutions Ltd. is evaluating the potential acquisition of new equipment costing $\\$1,200,000$. This equipment will be depreciated using the straight-line method over its 5-year useful life. At the end of the 5 years, the equipment is expected to be sold for a salvage value of $\\$50,000$.\n",
    "\n",
    "The projected operating revenues from this equipment are $950,000 (in nominal terms) for the first year, and these revenues are expected to grow annually at the general inflation rate of 4 percent.\n",
    "\n",
    "The estimated production costs are $550,000 (in nominal terms) in the first year, and these costs are anticipated to increase by 3 percent per year.\n",
    "\n",
    "The company requires a real rate of return of 8 percent on projects of this nature. The applicable corporate income tax rate is 30 percent.\n",
    "\n",
    "Based on this information, should Apex Solutions Ltd. proceed with purchasing the new equipment?\n",
    "\n",
    "---\n"
   ]
  },
  {
   "cell_type": "markdown",
   "metadata": {},
   "source": [
    "### Question 4.8\n",
    "\n",
    "Two recent engineering graduates, Alex and Ben, with limited start-up funds, decided to produce artisanal coffee makers. They estimate selling 7,000 units in the first year. Sales are projected to grow by 10 percent annually for the following five years. \n",
    "\n",
    "To begin operations, they will need an initial investment of $\\$55,000$ in net working capital. Annual fixed costs are estimated at $\\$95,000$, and variable production costs are $\\$25$ per coffee maker. Each unit will be sold for $\\$65$.\n",
    "\n",
    "The manufacturing equipment required will cost $220,000. This equipment will be depreciated using the straight-line method over its six-year useful life, with no expected salvage value at the end.\n",
    "\n",
    "The applicable corporate tax rate is 30 percent, and the project's required rate of return is 15 percent.\n",
    "\n",
    "Calculate the Net Present Value (NPV) of this venture.\n",
    "\n",
    "---"
   ]
  },
  {
   "cell_type": "markdown",
   "metadata": {},
   "source": [
    "## Bond Valuation\n",
    "\n",
    "---"
   ]
  },
  {
   "cell_type": "markdown",
   "metadata": {},
   "source": [
    "### Question 5.1\n",
    "* Determine the current market price of a 10-year, zero-coupon bond with a face value of $5,000 upon maturity. Assume interest compounds semiannually, and calculate the price for the following yield to maturity (YTM) rates:\n",
    "    * 5 percent?\n",
    "    * 7 percent?\n",
    "    * 9 percent?\n",
    "\n",
    "* Zenith Tech has bonds outstanding with a coupon rate of 6%, paid semiannually. These bonds mature in 8 years and have a par value of $1,000. What is the estimated price of one of these bonds if the required YTM is:\n",
    "    * 6 percent?\n",
    "    * 8 percent?\n",
    "    * 4 percent?\n",
    "\n",
    "---"
   ]
  },
  {
   "cell_type": "markdown",
   "metadata": {},
   "source": [
    "### Question 5.2\n",
    "\n",
    "Suppose a French company issues a bond with a par value of €5,000, 10 years remaining until maturity, and an annual coupon rate of 3.5 percent. If the required yield to maturity for similar bonds is 4.1 percent, what is the bond's estimated current market price?\n",
    "\n",
    "---"
   ]
  },
  {
   "cell_type": "markdown",
   "metadata": {},
   "source": [
    "### Question 5.3\n",
    "\n",
    "A Canadian firm has bonds outstanding that currently sell for 98 percent of their CAD 1,000 par value. These bonds feature a 4.2 percent coupon rate paid annually and have 18 years left until they mature. Calculate the yield to maturity (YTM) for these bonds.\n",
    "\n",
    "---"
   ]
  },
  {
   "cell_type": "markdown",
   "metadata": {},
   "source": [
    "### Question 5.4\n",
    "\n",
    "Beta Corp. originally issued 20-year bonds 3 years ago with a coupon rate of 6.2%. These bonds make payments semiannually, and a coupon payment was just made. If the bonds are currently trading at 103% of their par value, what is the approximate YTM?\n",
    "\n",
    "---"
   ]
  },
  {
   "cell_type": "markdown",
   "metadata": {},
   "source": [
    "### Question 5.5\n",
    "\n",
    "The City of Springfield Metro has outstanding bonds with a 4.1 percent coupon rate, paid semiannually, and 12 years remaining to maturity. The current yield to maturity on these bonds is 3.8 percent. If the bonds have a par value of $1,000, what is their expected dollar price?\n",
    "\n",
    "---"
   ]
  },
  {
   "cell_type": "markdown",
   "metadata": {},
   "source": [
    "### Question 5.6\n",
    "\n",
    "Arturu Solutions has bonds available in the market that mature in 9.5 years. These bonds have a yield to maturity (YTM) of 6.8% and are currently priced at $\\$985.20$. Assuming the bonds make semiannual coupon payments and have a $\\$1,000$ par value, what is the annual coupon rate?\n",
    "\n",
    "---"
   ]
  },
  {
   "cell_type": "markdown",
   "metadata": {},
   "source": [
    "### Question 5.7\n",
    "\n",
    "Consider two different bonds:\n",
    "\n",
    "* Bond X carries a 3 percent coupon rate.\n",
    "* Bond Y carries an 11 percent coupon rate.\n",
    "\n",
    "Both bonds have 10 years left until maturity, make interest payments twice a year, and currently have a Yield to Maturity (YTM) of 8 percent. Assume a par value of $1,000 for both bonds.\n",
    "\n",
    "1.  Suppose market interest rates suddenly increase by 1 percent. Calculate the percentage change in the price of Bond X and Bond Y.\n",
    "2.  Now, suppose market interest rates suddenly decrease by 1 percent instead. Calculate the percentage change in the price of Bond X and Bond Y.\n",
    "3.  What insight does this exercise provide regarding the interest rate sensitivity (risk) of bonds with lower coupon rates compared to those with higher coupon rates?\n",
    "\n",
    "---"
   ]
  },
  {
   "cell_type": "markdown",
   "metadata": {},
   "source": [
    "### Question 5.8\n",
    "\n",
    "BlueChip Systems has 7.5 percent coupon bonds outstanding with 12 years left until maturity. The bonds make semiannual payments and are currently priced at 98 percent of their face value. Calculate the current yield, the yield to maturity (YTM), and the effective annual yield (EAY) for these bonds.\n",
    "\n",
    "---"
   ]
  },
  {
   "cell_type": "markdown",
   "metadata": {},
   "source": [
    "### Question 5.9\n",
    "\n",
    "NovaTech Industries is planning to issue new 15-year bonds to finance upcoming projects. The company currently has 5.8 percent coupon bonds on the market that sell for $955. These existing bonds also make semiannual payments and mature in 15 years. Assuming the new bonds will have similar risk, what coupon rate should NovaTech set on its new bonds if the goal is for them to sell at par value?\n",
    "\n",
    "---"
   ]
  },
  {
   "cell_type": "markdown",
   "metadata": {},
   "source": [
    "### Question 5.10\n",
    "\n",
    "PSK Enterprises issued bonds with an 8 percent coupon rate that make annual payments. The yield to maturity (YTM) on these bonds is currently 8.55 percent, and their current yield is 8.20 percent. Determine the number of years remaining until these bonds mature.\n",
    "\n",
    "---"
   ]
  },
  {
   "cell_type": "markdown",
   "metadata": {},
   "source": [
    "### Question 5.11\n",
    "\n",
    "* The Yield to Maturity (YTM) represents the total return anticipated on a bond if the bond is held until it matures. However, if market interest rates fluctuate and you sell the bond prior to maturity, the actual return achieved is termed the Holding Period Yield (HPY).\n",
    "    * Imagine today you purchase an 8-year bond for $\\$1,050$. This bond pays an annual coupon of 6.2 percent (assuming a face value of $\\$1,000$). What is the initial YTM expected on this investment?\n",
    "    * Suppose that three years after your purchase, the prevailing YTM for similar bonds has risen by 0.75 percent. You decide to sell your bond at this point. What market price can you expect to receive for your bond? Calculate the annualized HPY for your investment over the three years. How does this HPY compare to the YTM calculated when you initially bought the bond, and what causes the difference?\n",
    "\n",
    "---"
   ]
  },
  {
   "cell_type": "markdown",
   "metadata": {},
   "source": [
    "### Question 5.12\n",
    "\n",
    "Suppose there are four risk-free financial instruments available with the following market prices and guaranteed future payments:\n",
    "\n",
    "| Instrument | Current Price | Payment in Year 1 | Payment in Year 2 | Payment in Year 3 |\n",
    "|:------------:|---------------:|-------------------:|-------------------:|-------------------:|\n",
    "| X          | 950.00       | 1000              | 0                 | 0                 |\n",
    "| Y          | 890.00       | 0                 | 1000              | 0                 |\n",
    "| Z          | 985.00       | 50                | 50                | 1050              |\n",
    "| W          | 840.00       | 0                 | 0                 | 1000              |\n",
    "\n",
    "Based on this information, does an arbitrage opportunity exist?\n",
    "* If yes, describe the strategy to capture a risk-free profit.\n",
    "* If no, explain why the prices are consistent and preclude arbitrage.\n",
    "\n",
    "---"
   ]
  },
  {
   "cell_type": "markdown",
   "metadata": {},
   "source": [
    "### Question 5.13\n",
    "\n",
    "Apex Industries has issued zero-coupon corporate bonds with a seven-year maturity. \n",
    "\n",
    "- Investors estimate a 20% probability that Apex will default on these bonds. \n",
    "\n",
    "- If a default occurs, investors anticipate recovering only 50 cents per dollar of the face value. \n",
    "\n",
    "- If the required expected return for investing in these bonds is 7%, what would be the market price and the yield to maturity for these bonds?\n",
    "\n",
    "---"
   ]
  },
  {
   "cell_type": "markdown",
   "metadata": {},
   "source": [
    "### Question 5.14\n",
    "\n",
    "Redwood Enterprises leases sustainable forestry equipment in the Pacific Northwest. It has just issued a three-year, zero-coupon corporate bond at a price of $\\$85$. You have purchased this bond and plan to hold it until it matures. Assume the face value is $\\$100$.\n",
    "\n",
    "a. Calculate the yield to maturity (YTM) of this bond.\n",
    "\n",
    "b. What is the expected annual return on your investment if there is zero probability of default?\n",
    "\n",
    "c. What is your expected annual return if default is certain (100% probability), and you anticipate recovering 80% of the face value in bankruptcy?\n",
    "\n",
    "d. What is your expected annual return if the probability of default occurring before maturity is 40%, and if default occurs, you will recover 80% of the face value?\n",
    "\n",
    "e. Considering your answers for parts (b) through (d), comment on the relationship between the expected return and the three-year, risk-free interest rate in each scenario.\n",
    "\n",
    "---"
   ]
  },
  {
   "cell_type": "markdown",
   "metadata": {},
   "source": [
    "## Stock Valuation\n",
    "\n",
    "---"
   ]
  },
  {
   "cell_type": "markdown",
   "metadata": {},
   "source": [
    "### Question 6.1\n",
    "\n",
    "AGE Corporation will pay an annual dividend of $\\$1.10$ one year from now. Analysts expect this dividend to grow at 10% per year thereafter until the fourth year. After then, growth will level off at 3% per year indefinitely. According to the dividend-discount model, what is the value of a share of AGE Corp. stock if the firm's equity cost of capital ($r_{E}$) is 8%?\n",
    "\n",
    "---"
   ]
  },
  {
   "cell_type": "markdown",
   "metadata": {},
   "source": [
    "### Question 6.2\n",
    "\n",
    "* Suppose the BSM corporation pays no dividends but spent $4.50 billion on share repurchases last year. \n",
    "    * If BSM's equity cost of capital is 8.2%, and if the amount spent on repurchases is expected to grow by 5.5% per year, estimate BSM's market capitalization. \n",
    "    * If BSM has 620 million shares outstanding, what stock price does this correspond to?\n",
    "\n",
    "---"
   ]
  },
  {
   "cell_type": "markdown",
   "metadata": {},
   "source": [
    "### Question 6.3\n",
    "\n",
    "AGE Corp intends to pay a total payout of $\\$3.50$ per share to its shareholders next year. The company anticipates an earnings growth rate of 4.2% per year indefinitely, and its equity cost of capital ($r_E$) is 9.5%.\n",
    "\n",
    "* **Scenario 1: All Payouts as Dividends**\n",
    "    \n",
    "    Assume AGE Corp pays the entire $\\$3.50$ as a dividend ($D_1 = \\$3.50$). If its dividend payout rate and expected growth rate remain constant, and AGE Corp does not issue or repurchase shares, estimate its share price ($P_0$).\n",
    "\n",
    "* **Scenario 2: Dividends and Repurchases**\n",
    "    \n",
    "    Suppose AGE Corp decides to pay a dividend of $\\$1.00$ per share ($D_1' = \\$1.00$) this year and use the remaining $\\$2.50$ per share ($\\$3.50 - \\$1.00$) to repurchase shares. If AGE Corp's total payout rate remains constant, estimate its share price.\n",
    "\n",
    "* **Growth Rates with Repurchases**\n",
    "    \n",
    "    If AGE Corp maintains the payout split from Scenario 2 ($\\$1.00$ dividend, $\\$2.50$ repurchase per initial share) and the same total payout rate, at what rates are its dividends per share (DPS), earnings per share (EPS), and share price expected to grow?\n",
    "\n",
    "---"
   ]
  },
  {
   "cell_type": "markdown",
   "metadata": {},
   "source": [
    "### Question 6.4\n",
    "\n",
    "Consider LAC Corp and FB Industries, both of which reported total earnings of $\\$500,000$ this past year. Without undertaking any new projects, both firms are expected to continue generating earnings of $\\$500,000$ per year in perpetuity. Assume that all earnings are paid out to shareholders as dividends and that investors require an equity return ($r_E$) of 12 percent for both firms.\n",
    "\n",
    "* What is the current Price-to-Earnings (P/E) ratio for each company?\n",
    "* LAC Corp has identified a new project expected to generate additional earnings of $\\$80,000$ each year in perpetuity, starting next year. Calculate the new P/E ratio of the company based on this information.\n",
    "* FB Industries has a different new project expected to increase earnings by $\\$150,000$ per year in perpetuity, starting next year. Calculate the new P/E ratio of this firm.\n",
    "\n",
    "---"
   ]
  },
  {
   "cell_type": "markdown",
   "metadata": {},
   "source": [
    "### Question 6.5\n",
    "\n",
    "Epsilon Industries reports annual sales of $\\$60$ million and operating costs (excluding depreciation and amortization) of $\\$25$ million. \n",
    "\n",
    "* The company's balance sheet indicates total debt of $\\$50$ million and cash holdings of $\\$15$ million. \n",
    "\n",
    "* Epsilon Industries has 2,500,000 shares of common stock outstanding. The average Enterprise Value to EBITDA (EV/EBITDA) multiple for comparable companies in its industry is 7.5. \n",
    "\n",
    "* Estimate the stock price for Epsilon.\n",
    "\n",
    "---"
   ]
  },
  {
   "cell_type": "markdown",
   "metadata": {},
   "source": [
    "### Question 6.6\n",
    "\n",
    "DFB, Inc., expects earnings at the end of this year of $\\$4.19$ per share, and it plans to pay a $\\$2.43$ dividend at that time. DFB will retain $\\$1.76$ per share of its earnings to reinvest in new projects with an expected return of 15.1% per year. Suppose DFB will maintain the same dividend payout rate, retention rate, and return on new investments in the future and will not change its number of outstanding shares.\n",
    "\n",
    "*   What growth rate of earnings would you forecast for DFB?\n",
    "\n",
    "*   Suppose DFB instead paid a dividend of $\\$3.43$ per share at the end of this year and retained only $\\$0.76$ per share in earnings. If DFB maintains this higher payout rate in the future, what stock price would you estimate now? Should DFB raise its dividend?\n",
    "\n",
    "* Should DFB raise its dividend? \n",
    "---"
   ]
  },
  {
   "cell_type": "markdown",
   "metadata": {},
   "source": [
    "### Question 6.7\n",
    "\n",
    "Gamma Analytics, an all-equity financed firm, reported Earnings Per Share (EPS) of $\\$5.00$ for the year 2024. The company plans a temporary reduction in payouts. It has just paid the 2024 dividend of $\\$1.80$ per share. It plans to pay the same dividend amount for 2025. Starting in 2026, Gamma Analytics expects its growth opportunities to stabilize and will target a 40% dividend payout ratio and a 25% share repurchase ratio, resulting in a 65% total payout ratio. The firm expects its existing operations to continue generating the current level of EPS ($\\$5.00$) indefinitely, with all future growth coming from new investments.\n",
    "\n",
    "Assume the return on new investments (RONI) is 12%, and Gamma Analytics' equity cost of capital ($r_E$) is 11%. Estimate Gamma Analytics' share price at the end of 2024 (immediately after the 2024 dividend has been paid).\n",
    "\n",
    "---"
   ]
  },
  {
   "cell_type": "markdown",
   "metadata": {},
   "source": [
    "### Question 6.8\n",
    "\n",
    "Omega Holdings has 50 million outstanding shares, $\\$100$ million in debt, $\\$30$ million in cash, and the following projected free cash flow for the next four years based on current operations and assumptions:\n",
    "\n",
    "**Base Case Earnings and FCF Forecast ($ millions)**\n",
    "\n",
    "* *Assumptions:* Sales growth as shown, COGS = 65% of Sales, SG&A = 18% of Sales, Depreciation = 2% of Prior Year Sales, CapEx = Depreciation + 1.5% of ΔSales, NWC = 15% of Sales, Tax Rate ($\\tau$) = 35%.\n",
    "\n",
    "| Line | Item                      | Formula                         | 0     | 1       | 2       | 3       | 4       |\n",
    "| :--- | :------------------------ | :------------------------------ | ----: | ------: | ------: | ------: | ------: |\n",
    "| 1    | Sales                     | Prior*(1+Growth)                | 300.0 | 330.0   | 359.7   | 384.9   | 408.0   |\n",
    "| 2    | Growth                    | Given                           |       | 10.0%   | 9.0%    | 7.0%    | 6.0%    |\n",
    "| 3    | COGS (65%)                | -(0.65 * Sales)                 |       | (214.5) | (233.8) | (250.2) | (265.2) |\n",
    "| 4    | Gross Profit              | Sales + COGS                    |       | 115.5   | 125.9   | 134.7   | 142.8   |\n",
    "| 5    | SG&A (18%)                | -(0.18 * Sales)                 |       | (59.4)  | (64.7)  | (69.3)  | (73.4)  |\n",
    "| 6    | Depreciation              | -(0.02 * Prior Sales)           |       | (6.0)   | (6.6)   | (7.2)   | (7.7)   |\n",
    "| 7    | **EBIT** | Sum(4:6)                        |       | **50.1** | **54.5** | **58.2** | **61.7** |\n",
    "| 8    | Less: Tax (35%)           | -(EBIT * 0.35)                  |       | (17.5)  | (19.1)  | (20.4)  | (21.6)  |\n",
    "| 9    | *Unlevered Net Income* | EBIT * (1-0.35)                 |       | *32.6* | *35.4* | *37.8* | *40.1* |\n",
    "| 10   | Plus: Depreciation        | -Line 6                         |       | 6.0     | 6.6     | 7.2     | 7.7     |\n",
    "| 11   | Less: CapEx               | -(Depr + 0.015*ΔSales)          |       | (6.5)   | (7.0)   | (7.6)   | (8.0)   |\n",
    "| 12   | Less: Increase in NWC     | -(Change in 0.15*Sales)         |       | (4.5)   | (4.5)   | (3.8)   | (3.5)   |\n",
    "| 13   | **Free Cash Flow (FCF)** | Sum(9:12)                       |       | **27.6** | **30.6** | **33.7** | **36.4** |\n",
    "\n",
    "* Suppose Omega Holdings' revenue and free cash flow are expected to grow at a 4.5% rate ($g$) beyond year 4. If Omega Holdings' weighted average cost of capital ($r_{wacc}$) is 11%, estimate the value of Omega Holdings' stock today (Year 0).\n",
    "\n",
    "* Omega Holdings' cost of goods sold (COGS) was assumed to be 65% of sales. If its COGS is actually 68% of sales, how would the estimate of the stock's value change? (All other base assumptions remain).\n",
    "\n",
    "* Suppose Omega Holdings can maintain its COGS at 65% of sales, but reduces its Selling, General & Administrative (SG&A) expenses from 18% of sales to 15% of sales. What stock price would you estimate now? (All other base assumptions remain).\n",
    "\n",
    "* Omega Holdings' initial net working capital (NWC) requirement was 15% of sales. If Omega Holdings reduces its SG&A to 15% (as in Scenario 2) *and* reduces its NWC requirement to 10% of sales starting in year 1, what stock price do you estimate? (NWC at Year 0 is still 15% of Year 0 Sales).\n",
    "\n",
    "---"
   ]
  }
 ],
 "metadata": {
  "kernelspec": {
   "display_name": "Python 3 (ipykernel)",
   "language": "python",
   "name": "python3"
  },
  "language_info": {
   "codemirror_mode": {
    "name": "ipython",
    "version": 3
   },
   "file_extension": ".py",
   "mimetype": "text/x-python",
   "name": "python",
   "nbconvert_exporter": "python",
   "pygments_lexer": "ipython3",
   "version": "3.12.3"
  }
 },
 "nbformat": 4,
 "nbformat_minor": 4
}
